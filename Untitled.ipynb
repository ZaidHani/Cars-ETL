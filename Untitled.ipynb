{
 "cells": [
  {
   "cell_type": "markdown",
   "id": "a280cf9e-f891-4984-b95d-5823a5b3a304",
   "metadata": {},
   "source": [
    "# TurboInsight: Vehicle Sales Analysis"
   ]
  },
  {
   "cell_type": "markdown",
   "id": "c31b6ff0-8fc9-427a-8c6e-19a21169fe33",
   "metadata": {},
   "source": [
    "## About the Data"
   ]
  },
  {
   "cell_type": "markdown",
   "id": "1d8a4f77-6111-49d8-88dc-e176a3ba8037",
   "metadata": {},
   "source": [
    "### Context\n",
    "The dataset contains 3 million real world used cars details.\n",
    "\n",
    "### Content\n",
    "This data was obtained by running a self made crawler on Cargurus inventory in September 2020."
   ]
  },
  {
   "cell_type": "markdown",
   "id": "32501ea1-13dd-4c45-bd36-53046aad32d1",
   "metadata": {},
   "source": [
    "### Columns\n",
    "\n",
    "1- vin: Type String. Vehicle Identification Number is a unique encoded string for every vehicle. Read more at https://www.autocheck.com/vehiclehistory/vin-basics\n",
    "\n",
    "2- back_legroom: Type String. Legroom in the rear seat.\n",
    "\n",
    "3- bed: Type String. Category of bed size(open cargo area) in pickup truck. Null usually means the vehicle isn't a pickup truck\n",
    "\n",
    "4- bed_height: Type String. Height of bed in inches\n",
    "\n",
    "5- bed_length: Type String. Length of bed in inches\n",
    "\n",
    "6- body_type: Type String. Body Type of the vehicle. Like Convertible, Hatchback, Sedan, etc.\n",
    "\n",
    "7- cabin: Type String. Category of cabin size(open cargo area) in pickup truck. Eg: Crew Cab, Extended Cab, etc.\n",
    "\n",
    "8- city: Type String. city where the car is listed. Eg: Houston, San Antonio, etc.\n",
    "\n",
    "9- city_fuel_economy: Type Float. Fuel economy in city traffic in km per litre\n",
    "\n",
    "10- combine_fuel_economy: Type Float. Combined fuel economy is a weighted average of City and Highway fuel economy in km per litre\n",
    "\n",
    "11- daysonmarket: Type Integer. Days since the vehicle was first listed on the website.\n",
    "\n",
    "12- dealer_zip: Type Integer. Zipcode of the dealer\n",
    "\n",
    "13- description: Type String. Vehicle description on the vehicle's listing page\n",
    "\n",
    "14- engine_cylinders: Type String. The engine configuration. Eg: I4, V6, etc.\n",
    "\n",
    "15- engine_displacement: Type Float. engine_displacement is the measure of the cylinder volume swept by all of the pistons of a piston engine, excluding the combustion chambers.\n",
    "\n",
    "16- engine_type: Type String. The engine configuration. Eg: I4, V6, etc.\n",
    "\n",
    "17- exterior_color: Type String. Exterior color of the vehicle, usually a fancy one same as the brochure.\n",
    "\n",
    "18- fleet: Type Boolean. Whether the vehicle was previously part of a fleet.\n",
    "\n",
    "19- frame_damaged: Type Boolean. Whether the vehicle has a damaged frame.\n",
    "\n",
    "20- franchise_dealer: Type Boolean. Whether the dealer is a franchise dealer.\n",
    "\n",
    "21- franchise_make: Type String. The company that owns the franchise.\n",
    "\n",
    "22- front_legroom: Type String. The legroom in inches for the passenger seat\n",
    "\n",
    "23- fuel_tank_volume: Type String. Fuel tank's filling capacity in gallons\n",
    "\n",
    "24- fuel_type: Type String. Dominant type of fuel ingested by the vehicle.\n",
    "\n",
    "25- has_accidents: Type Boolean. Whether the vin has any accidents registered.\n",
    "\n",
    "26- height: Type String. Height of the vehicle in inches\n",
    "\n",
    "27- highway_fuel_economy: Type Float. Fuel economy in highway traffic in km per litre\n",
    "\n",
    "28- horsepower: Type Float. Horsepower is the power produced by an engine.\n",
    "\n",
    "29- interior_color: Type String. Interior color of the vehicle, usually a fancy one same as the brochure.\n",
    "\n",
    "30- isCab: Type Boolean. Whether the vehicle was previously taxi/cab.\n",
    "\n",
    "31- is_certified: Type Boolean. Whether the vehicle is certified. Certified cars are covered through warranty period\n",
    "\n",
    "32- is_cpo: Type Boolean. Pre-owned cars certified by the dealer. Certified vehicles come with a manufacturer warranty for free repairs for a certain time period. Read more at https://www.cartrade.com/blog/2015/auto-guides/pros-and-cons-of-buying-a-certified-pre-owned-car-1235.html\n",
    "\n",
    "33- is_new: Type Boolean. If True means the vehicle was launched less than 2 years ago.\n",
    "\n",
    "34- is_oemcpo: Type Boolean. Pre-owned cars certified by the manufacturer. Read more at https://www.cargurus.com/Cars/articles/know_the_difference_dealership_cpo_vs_manufacturer_cpo\n",
    "\n",
    "35- latitude: Type Float. Latitude from the geolocation of the dealership.\n",
    "\n",
    "36- length: Type String. Length of the vehicle in inches\n",
    "\n",
    "37- listed_date: Type String. The date the vehicle was listed on the website. Does not make days_on_market obsolete. The prices is days_on_market days after the listed date.\n",
    "\n",
    "38- listing_color: Type String. Dominant color group from the exterior color.\n",
    "\n",
    "39- listing_id: Unique Type Integer. Listing id from the website\n",
    "\n",
    "40- longitude: Type Float. Longitude from the geolocation of the dealership.\n",
    "\n",
    "41- main_picture_url: Type String."
   ]
  },
  {
   "cell_type": "markdown",
   "id": "34670aba-df61-4dfd-b926-2d8915725cef",
   "metadata": {},
   "source": [
    "# Importing Libraries"
   ]
  },
  {
   "cell_type": "code",
   "execution_count": 1,
   "id": "7fc760ba-4926-4eba-b84a-ba4c4e85eaa1",
   "metadata": {},
   "outputs": [],
   "source": [
    "import pyspark\n",
    "from pyspark.sql import SparkSession\n",
    "import pyspark.sql.functions as F"
   ]
  },
  {
   "cell_type": "markdown",
   "id": "ab4239c2-12fd-418d-9d50-579514c5eb5b",
   "metadata": {},
   "source": [
    "# Data Ingestion"
   ]
  },
  {
   "cell_type": "code",
   "execution_count": 2,
   "id": "9a261568-7d98-4497-b732-318675e797c0",
   "metadata": {},
   "outputs": [],
   "source": [
    "spark = (\n",
    "    SparkSession\n",
    "    .builder\n",
    "    .appName('Used Cars ETL')\n",
    "    .master('local[*]')\n",
    "    .getOrCreate()\n",
    ")"
   ]
  },
  {
   "cell_type": "code",
   "execution_count": 3,
   "id": "3687fee7-5776-4c1c-aa7a-99696ff13882",
   "metadata": {},
   "outputs": [
    {
     "data": {
      "text/html": [
       "\n",
       "            <div>\n",
       "                <p><b>SparkSession - in-memory</b></p>\n",
       "                \n",
       "        <div>\n",
       "            <p><b>SparkContext</b></p>\n",
       "\n",
       "            <p><a href=\"http://host.docker.internal:4040\">Spark UI</a></p>\n",
       "\n",
       "            <dl>\n",
       "              <dt>Version</dt>\n",
       "                <dd><code>v3.5.0</code></dd>\n",
       "              <dt>Master</dt>\n",
       "                <dd><code>local[*]</code></dd>\n",
       "              <dt>AppName</dt>\n",
       "                <dd><code>Used Cars ETL</code></dd>\n",
       "            </dl>\n",
       "        </div>\n",
       "        \n",
       "            </div>\n",
       "        "
      ],
      "text/plain": [
       "<pyspark.sql.session.SparkSession at 0x189ec83b690>"
      ]
     },
     "execution_count": 3,
     "metadata": {},
     "output_type": "execute_result"
    }
   ],
   "source": [
    "spark"
   ]
  },
  {
   "cell_type": "code",
   "execution_count": 4,
   "id": "de45de95-bdad-40dc-b71d-4caac39bdf13",
   "metadata": {},
   "outputs": [],
   "source": [
    "df = spark.read.option('header',True).csv('data/used_cars_data.csv')"
   ]
  },
  {
   "cell_type": "code",
   "execution_count": 5,
   "id": "a795523d-9660-4f15-a8d9-bfe527e4538b",
   "metadata": {},
   "outputs": [],
   "source": [
    "# don't subset the data, spark don't work like that, it accumlates all the transfromations and execute them when needed, not immediatly, this is called\n",
    "# Lazy Evaluation"
   ]
  },
  {
   "cell_type": "code",
   "execution_count": 6,
   "id": "7b2c7e3e-e77e-43e5-bde5-385de7249976",
   "metadata": {},
   "outputs": [
    {
     "data": {
      "text/plain": [
       "75"
      ]
     },
     "execution_count": 6,
     "metadata": {},
     "output_type": "execute_result"
    }
   ],
   "source": [
    "# check partitions number\n",
    "df.rdd.getNumPartitions()"
   ]
  },
  {
   "cell_type": "markdown",
   "id": "7eb70dcd-b38e-470a-9954-900e657b278c",
   "metadata": {},
   "source": [
    "# Data Transformation"
   ]
  },
  {
   "cell_type": "code",
   "execution_count": 7,
   "id": "d6fc5d80-f2cb-4e23-9378-1ef079884619",
   "metadata": {
    "scrolled": true
   },
   "outputs": [
    {
     "name": "stdout",
     "output_type": "stream",
     "text": [
      "Rows Count:3000507\n",
      "\n",
      "Data Schema:\n",
      "root\n",
      " |-- vin: string (nullable = true)\n",
      " |-- back_legroom: string (nullable = true)\n",
      " |-- bed: string (nullable = true)\n",
      " |-- bed_height: string (nullable = true)\n",
      " |-- bed_length: string (nullable = true)\n",
      " |-- body_type: string (nullable = true)\n",
      " |-- cabin: string (nullable = true)\n",
      " |-- city: string (nullable = true)\n",
      " |-- city_fuel_economy: string (nullable = true)\n",
      " |-- combine_fuel_economy: string (nullable = true)\n",
      " |-- daysonmarket: string (nullable = true)\n",
      " |-- dealer_zip: string (nullable = true)\n",
      " |-- description: string (nullable = true)\n",
      " |-- engine_cylinders: string (nullable = true)\n",
      " |-- engine_displacement: string (nullable = true)\n",
      " |-- engine_type: string (nullable = true)\n",
      " |-- exterior_color: string (nullable = true)\n",
      " |-- fleet: string (nullable = true)\n",
      " |-- frame_damaged: string (nullable = true)\n",
      " |-- franchise_dealer: string (nullable = true)\n",
      " |-- franchise_make: string (nullable = true)\n",
      " |-- front_legroom: string (nullable = true)\n",
      " |-- fuel_tank_volume: string (nullable = true)\n",
      " |-- fuel_type: string (nullable = true)\n",
      " |-- has_accidents: string (nullable = true)\n",
      " |-- height: string (nullable = true)\n",
      " |-- highway_fuel_economy: string (nullable = true)\n",
      " |-- horsepower: string (nullable = true)\n",
      " |-- interior_color: string (nullable = true)\n",
      " |-- isCab: string (nullable = true)\n",
      " |-- is_certified: string (nullable = true)\n",
      " |-- is_cpo: string (nullable = true)\n",
      " |-- is_new: string (nullable = true)\n",
      " |-- is_oemcpo: string (nullable = true)\n",
      " |-- latitude: string (nullable = true)\n",
      " |-- length: string (nullable = true)\n",
      " |-- listed_date: string (nullable = true)\n",
      " |-- listing_color: string (nullable = true)\n",
      " |-- listing_id: string (nullable = true)\n",
      " |-- longitude: string (nullable = true)\n",
      " |-- main_picture_url: string (nullable = true)\n",
      " |-- major_options: string (nullable = true)\n",
      " |-- make_name: string (nullable = true)\n",
      " |-- maximum_seating: string (nullable = true)\n",
      " |-- mileage: string (nullable = true)\n",
      " |-- model_name: string (nullable = true)\n",
      " |-- owner_count: string (nullable = true)\n",
      " |-- power: string (nullable = true)\n",
      " |-- price: string (nullable = true)\n",
      " |-- salvage: string (nullable = true)\n",
      " |-- savings_amount: string (nullable = true)\n",
      " |-- seller_rating: string (nullable = true)\n",
      " |-- sp_id: string (nullable = true)\n",
      " |-- sp_name: string (nullable = true)\n",
      " |-- theft_title: string (nullable = true)\n",
      " |-- torque: string (nullable = true)\n",
      " |-- transmission: string (nullable = true)\n",
      " |-- transmission_display: string (nullable = true)\n",
      " |-- trimId: string (nullable = true)\n",
      " |-- trim_name: string (nullable = true)\n",
      " |-- vehicle_damage_category: string (nullable = true)\n",
      " |-- wheel_system: string (nullable = true)\n",
      " |-- wheel_system_display: string (nullable = true)\n",
      " |-- wheelbase: string (nullable = true)\n",
      " |-- width: string (nullable = true)\n",
      " |-- year: string (nullable = true)\n",
      "\n"
     ]
    }
   ],
   "source": [
    "print(f'Rows Count:{df.count()}')\n",
    "print()\n",
    "print('Data Schema:')\n",
    "df.printSchema()"
   ]
  },
  {
   "cell_type": "code",
   "execution_count": 8,
   "id": "b1ea530a-53bf-4fc0-8db4-8dbbb997e44f",
   "metadata": {},
   "outputs": [],
   "source": [
    "# replacing -- with null\n",
    "df = df.replace('--',None)"
   ]
  },
  {
   "cell_type": "code",
   "execution_count": 9,
   "id": "00f4f9e4-f431-41af-9db0-0b9793b3e901",
   "metadata": {},
   "outputs": [],
   "source": [
    "# drop duplicates \n",
    "df = df.dropDuplicates()"
   ]
  },
  {
   "cell_type": "code",
   "execution_count": 10,
   "id": "d478fdf8-a94f-42d5-8694-41efbd6fe88e",
   "metadata": {},
   "outputs": [],
   "source": [
    "#df.count()"
   ]
  },
  {
   "cell_type": "code",
   "execution_count": 11,
   "id": "203aaba7-99db-43cf-b7ae-3c356f7e70f2",
   "metadata": {},
   "outputs": [],
   "source": [
    "# dropping null columns\n",
    "# all of these columns had at most 0.3% data, and most of it was wrong data\n",
    "df = df.drop('bed_height')\n",
    "df = df.drop('combine_fuel_economy')\n",
    "df = df.drop('is_certified')\n",
    "df = df.drop('cabin')\n",
    "df = df.drop('vehicle_damage_category')\n",
    "# this column's data is useless, since all the image data is not there\n",
    "df = df.drop('main_picture_url')\n",
    "# I will be remaking this column so I'll be deleing it\n",
    "df = df.drop('horsepower')\n",
    "df = df.drop('bed')\n",
    "df = df.drop('bed_length')"
   ]
  },
  {
   "cell_type": "code",
   "execution_count": 12,
   "id": "f0ddf689-701f-47cf-8792-dfd482e6f2af",
   "metadata": {},
   "outputs": [],
   "source": [
    "# The string NULL exists, so this replace it with actual nulls... at least I hope so\n",
    "df = df.replace('NULL',None)"
   ]
  },
  {
   "cell_type": "code",
   "execution_count": 13,
   "id": "ccf997c9-98f7-44e4-9163-61dcb95f2b25",
   "metadata": {},
   "outputs": [],
   "source": [
    "# from this column we can see that some of the data is messy and does not even exist in the dataframe, so we will delete the rows with the messy data\n",
    "#df.select('*').filter(df['vehicle_damage_category'].isNotNull()).show(5)"
   ]
  },
  {
   "cell_type": "code",
   "execution_count": 14,
   "id": "e380decb-09c0-494f-a00f-9f81fc6ac43d",
   "metadata": {},
   "outputs": [],
   "source": [
    "# dropping dirty rows\n",
    "vin_pattern = r'[a-z]|\\.|\\s'\n",
    "df = df.filter(F.length(df['vin'])==17)\n",
    "df = df.filter((~ df['vin'].rlike(vin_pattern)))\n",
    "df = df.withColumn('vin',F.regexp_replace('vin','False',''))\n",
    "df = df.filter(df['vin'].isNotNull())"
   ]
  },
  {
   "cell_type": "code",
   "execution_count": 15,
   "id": "1de68966-1b3a-4d95-8c52-db39f3adb745",
   "metadata": {},
   "outputs": [],
   "source": [
    "df = df.withColumn('price',F.col('price').cast('Float'))\n",
    "df = df.filter(F.col('price').isNotNull())"
   ]
  },
  {
   "cell_type": "code",
   "execution_count": 16,
   "id": "a4e19ea9-6de8-4db8-887c-07497251cb50",
   "metadata": {},
   "outputs": [],
   "source": [
    "# cleaning columns and changing data types\n",
    "\n",
    "# Back Legroom\n",
    "df = df.withColumn('back_legroom',\n",
    "                   F.regexp_replace(string='back_legroom',pattern='[^0-9.]',replacement='')) # inches\n",
    "df = df.withColumn('back_legroom',\n",
    "                   df.back_legroom.cast('Float'))\n",
    "df = df.withColumnRenamed('back_legroom',\n",
    "                          'back_legroom_inches')\n",
    "\n",
    "# City Fuel Economy\n",
    "df = df.withColumn('city_fuel_economy',\n",
    "                   df.city_fuel_economy.cast('Float'))\n",
    "# Days On Market\n",
    "df = df.withColumn('daysonmarket',\n",
    "                   df.daysonmarket.cast('Int'))\n",
    "# Dealer ZIP\n",
    "df = df.withColumn('dealer_zip',\n",
    "                   df.dealer_zip.cast('Int'))\n",
    "# Engine Displacement\n",
    "df = df.withColumn('engine_displacement',\n",
    "                   df.engine_displacement.cast('Float'))\n",
    "# Fleet\n",
    "df = df.withColumn('fleet',\n",
    "                   df.fleet.cast('Boolean'))\n",
    "# Frame Damaged\n",
    "df = df.withColumn('frame_damaged',\n",
    "                   df.frame_damaged.cast('Boolean'))\n",
    "# Franchise Dealer\n",
    "df = df.withColumn('franchise_dealer',\n",
    "                   df. franchise_dealer.cast('Boolean'))\n",
    "# Front Legroom\n",
    "df = df.withColumn('front_legroom',\n",
    "                   F.regexp_replace(string='front_legroom',pattern='[^0-9.]',replacement='')) # inches\n",
    "df = df.withColumn('front_legroom',\n",
    "                   df.front_legroom.cast('Float'))\n",
    "# Fuel Tank Volume\n",
    "df = df.withColumn('fuel_tank_volume',\n",
    "                   F.regexp_replace(string='fuel_tank_volume',pattern='[^0-9.]',replacement='')) # gallons\n",
    "df = df.withColumn('fuel_tank_volume',\n",
    "                   df.fuel_tank_volume.cast('Float'))\n",
    "df = df.withColumnRenamed('fuel_tank_volume',\n",
    "                          'fuel_tank_volume_gallons')\n",
    "# Fuel Type\n",
    "# these are the fuel types I found on the website https://www.cargurus.com/\n",
    "valid_fuels = ['Gasoline', 'Diesel', 'Biodiesel', 'Flex Fuel Vehicle', 'Hybrid', 'Electric']\n",
    "# df = df.filter(df.fuel_type.rlike('Gasoline|Diesel|Biodiesel|Flex Fuel Vehicle|Hybrid|Electric'))\n",
    "df = df.withColumn(\"fuel_type\",\n",
    "                   F.when(F.col(\"fuel_type\").isin(valid_fuels),\n",
    "                          F.col(\"fuel_type\")).otherwise(None))\n",
    "# Has Accidents\n",
    "df = df.withColumn('has_accidents',\n",
    "                   df.has_accidents.cast('Boolean'))\n",
    "# Height\n",
    "df = df.withColumn('height',\n",
    "                   F.regexp_replace(string='height',pattern='[^0-9.]',replacement='')) # inches\n",
    "df = df.withColumn('height',\n",
    "                   df.height.cast('Float'))\n",
    "df = df.withColumnRenamed('height',\n",
    "                          'height_inches')\n",
    "# Highway Fuel Economy\n",
    "df = df.withColumn('highway_fuel_economy',\n",
    "                   df.highway_fuel_economy.cast('Float'))\n",
    "\n",
    "# Is Cab, Is Certified Pre Owned Car, Is New, Is Pre-Owned Certified By The Manufacturer. \n",
    "df = df.withColumn('isCab',\n",
    "                   df.isCab.cast('Boolean'))\n",
    "df = df.withColumn('is_cpo',\n",
    "                   df.is_cpo.cast('Boolean'))\n",
    "df = df.withColumn('is_new',\n",
    "                   df.is_new.cast('Boolean'))\n",
    "df = df.withColumn('is_oemcpo',\n",
    "                   df.is_oemcpo.cast('Boolean'))\n",
    "\n",
    "# Latitude & Longitude\n",
    "df = df.withColumn('latitude',\n",
    "                   df.latitude.cast('Float'))\n",
    "df = df.withColumn('longitude',\n",
    "                   df.longitude.cast('Float'))\n",
    "\n",
    "# Length ('Inches')\n",
    "df = df.withColumn('length',\n",
    "                   F.regexp_replace(string='length',pattern='[^0-9.]',replacement='')) # inches\n",
    "df = df.withColumn('length',\n",
    "                   df.length.cast('Float'))\n",
    "df = df.withColumnRenamed('length',\n",
    "                          'length_inches')\n",
    "\n",
    "# Listed Date\n",
    "df = df.withColumn('listed_date',\n",
    "                   df.listed_date.cast('Date'))\n",
    "\n",
    "# Listing Color\n",
    "# this one is gonna be more simple to clean since all of the colors are in uppercase, so a simple regex should do it\n",
    "df = df.withColumn('listing_color',\n",
    "                   F.regexp_replace(string='listing_color',pattern='(.*[a-z].*)|(.*\\d.*)',replacement=''))\n",
    "# Listing ID\n",
    "df = df.withColumn('listing_id',\n",
    "                   df.listing_id.cast('Int'))\n",
    "\n",
    "# Major Options\n",
    "df = df.withColumn(\n",
    "    \"major_options\",\n",
    "    F.when(\n",
    "        F.regexp_extract(F.col(\"major_options\"), r\"^\\[(.*)\\]$\", 1) != \"\",\n",
    "        F.split(F.regexp_extract(F.col(\"major_options\"), r\"^\\[(.*)\\]$\", 1), \",\"),\n",
    "    ).otherwise(F.lit(None)),\n",
    ")\n",
    "\n",
    "# Maximum Seating\n",
    "df = df.withColumn('maximum_seating',\n",
    "                   F.regexp_replace(string='maximum_seating',pattern='[^0-9]',replacement=''))\\\n",
    ".withColumn('maximum_seating',\n",
    "            F.regexp_replace(string='maximum_seating',pattern=r'\\b(?:\\d{3,}\\.\\d+|\\d{3,}|\\d{1,2}\\.\\d+)\\b',replacement=''))\n",
    "df = df.withColumn('maximum_seating',\n",
    "                   df.maximum_seating.cast('Int'))\n",
    "\n",
    "# Mileage\n",
    "df = df.withColumn('mileage',\n",
    "                   df.mileage.cast('Float'))\n",
    "\n",
    "# Owner Count\n",
    "df = df.withColumn('owner_count',\n",
    "                   df.owner_count.cast('Int'))\n",
    "\n",
    "# Power & Torque\n",
    "lbft_pattern = r\"(\\d+) lb-ft\"\n",
    "hp_pattern = r\"(\\d+) hp\"\n",
    "rpm_pattern = r\"(\\d{1,3},\\d{3})\"\n",
    "# # Extract numeric values and RPM for torque\n",
    "# 'torque_lbft'\n",
    "df = df.withColumn('torque_lbft', \n",
    "                   F.regexp_extract(F.col('torque'), lbft_pattern, 1).cast('Int'))\n",
    "\n",
    "# 'torque_rpm'\n",
    "df = df.withColumn('torque_rpm', \n",
    "                   F.regexp_extract('torque', rpm_pattern, 1))\\\n",
    ".withColumn('torque_rpm',\n",
    "            F.regexp_replace('torque_rpm',',',''))\n",
    "df = df.withColumn('torque_rpm',\n",
    "                   F.col('torque_rpm').cast('Int'))\n",
    "df = df.drop('torque')\n",
    "\n",
    "# # Extract numeric values and RPM for power\n",
    "# 'power_hp'\n",
    "df = df.withColumn('power_hp',\n",
    "                   F.regexp_extract(F.col('power'), hp_pattern, 1).cast('Int'))\n",
    "\n",
    "# 'power_rpm'\n",
    "df = df.withColumn('power_rpm',\n",
    "                   F.regexp_extract('power', rpm_pattern, 1))\\\n",
    ".withColumn('power_rpm',\n",
    "            F.regexp_replace('power_rpm',',',''))\n",
    "df = df.withColumn('power_rpm',\n",
    "                   df.power_rpm.cast('Int'))\n",
    "df = df.drop('power')\n",
    "\n",
    "# Salvage\n",
    "df = df.withColumn('salvage',\n",
    "                   df.salvage.cast('Boolean'))\n",
    "\n",
    "# Saving Amount\n",
    "df = df.withColumn('savings_amount',\n",
    "                   df.savings_amount.cast('Int'))\n",
    "\n",
    "# Seller Rating\n",
    "df = df.withColumn('seller_rating',\n",
    "                   F.when(F.col('seller_rating').between(1,5),\n",
    "                          F.round(F.col('seller_rating'),2)).otherwise(None))\n",
    "\n",
    "# I think sp here refers to the dealer so I might change it to that.\n",
    "# sp_id\n",
    "df = df.withColumnRenamed('sp_id','dealer_id')\n",
    "df = df.withColumn('dealer_id',F.col('dealer_id').cast('Int'))\n",
    "# sp_name\n",
    "df = df.withColumnRenamed('sp_name',\n",
    "                          'dealer')\n",
    "\n",
    "# theft_title\n",
    "df = df.withColumn('theft_title',\n",
    "                   df.theft_title.cast('Boolean'))\n",
    "\n",
    "# transmission\n",
    "# df = df.withColumn(\n",
    "#     'transmission', \n",
    "#     F.when(\n",
    "#         F.col('transmission').rlike('^A|M'), \n",
    "#         F.col('transmission')\n",
    "#     ).otherwise(None)\n",
    "# )\n",
    "# even after cleaninig using the price column the data is still very dirty, so I'm using the transmission column\n",
    "df = df.filter(\n",
    "        (F.col('transmission')=='M') | (F.col(\"transmission\")=='A')\n",
    ")\n",
    "\n",
    "# trim id\n",
    "df = df.withColumn(\n",
    "    'trimId', \n",
    "    F.when(\n",
    "        F.col('trimId').rlike('^t'), \n",
    "        F.col('trimId')\n",
    "    ).otherwise(None)\n",
    ")\n",
    "\n",
    "# wheel system\n",
    "df = df.withColumn(\n",
    "    'wheel_system', \n",
    "    F.when(\n",
    "        F.col('wheel_system').rlike('([A-Z]{3})'), \n",
    "        F.col('wheel_system')\n",
    "    ).otherwise(None)\n",
    ")\n",
    "\n",
    "# wheel system display\n",
    "# depends on the column above\n",
    "df = df.withColumn(\n",
    "    'wheel_system_display',\n",
    "    F.when(\n",
    "        F.col('wheel_system').isNotNull(),\n",
    "        F.col('wheel_system_display')\n",
    "    ).otherwise(None)\n",
    ")\n",
    "\n",
    "# Wheel Base (inches)\n",
    "df = df.withColumn('wheelbase',\n",
    "                   F.regexp_replace(string='wheelbase',pattern='[^0-9.]',replacement='')) # inches\n",
    "df = df.withColumn('wheelbase',\n",
    "                   df.wheelbase.cast('Float'))\n",
    "df = df.withColumnRenamed('wheelbase',\n",
    "                          'wheelbase_inches')\n",
    "\n",
    "# width (inches)\n",
    "df = df.withColumn('width',\n",
    "                   F.regexp_replace(string='width',pattern='[^0-9.]',replacement='')) # inches\n",
    "df = df.withColumn('width',\n",
    "                   df.width.cast('Float'))\n",
    "df = df.withColumnRenamed('width',\n",
    "                          'width_inches')\n",
    "\n",
    "# year\n",
    "df = df.withColumn(\n",
    "    'year', \n",
    "    F.when(\n",
    "        F.col('year').between(1800,2024), \n",
    "        F.col('year')\n",
    "    ).otherwise(None)\n",
    ")"
   ]
  },
  {
   "cell_type": "code",
   "execution_count": 17,
   "id": "72d5869f-b473-4aa2-b899-728f5aae323c",
   "metadata": {},
   "outputs": [],
   "source": [
    "df = df.replace('',None)"
   ]
  },
  {
   "cell_type": "markdown",
   "id": "b81d20e1-fd52-4b5d-8a43-4fbe0b7623b9",
   "metadata": {},
   "source": [
    "# Joining and Merging"
   ]
  },
  {
   "cell_type": "code",
   "execution_count": 18,
   "id": "3c6572c9-63f8-40c1-b63e-740b463a34bd",
   "metadata": {},
   "outputs": [],
   "source": [
    "# Sub Dimensional Tables from the Vehicle Dimension Table\n",
    "\n",
    "dim_vehicle_interior = df.select(\n",
    "    'front_legroom','interior_color','maximum_seating','back_legroom_inches'\n",
    ").distinct()\n",
    "\n",
    "dim_vehicle_body = df.select(\n",
    "    'trimId','trim_name', 'model_name', 'make_name','body_type','wheel_system','wheel_system_display', 'exterior_color', 'listing_color',\n",
    "    'wheelbase_inches', 'height_inches', 'length_inches', 'width_inches'\n",
    ").distinct()\n",
    "\n",
    "dim_vehicle_engine = df.select(\n",
    "    'engine_cylinders', 'engine_displacement', 'engine_type', 'torque_lbft', 'torque_rpm', 'power_hp','power_rpm'\n",
    ").distinct()\n",
    "\n",
    "dim_vehicle_fuel = df.select(\n",
    "    'fuel_tank_volume_gallons', 'fuel_type', 'city_fuel_economy', 'highway_fuel_economy'\n",
    ").distinct()\n",
    "\n",
    "dim_vehicle_tranmission = df.select(\n",
    "    'transmission', 'transmission_display'\n",
    ").distinct()"
   ]
  },
  {
   "cell_type": "code",
   "execution_count": 19,
   "id": "e710810e-8f1f-4ba4-a1b8-17abda6aff33",
   "metadata": {},
   "outputs": [],
   "source": [
    "dim_vehicle_interior = dim_vehicle_interior.withColumn('interior_id', F.monotonically_increasing_id())\n",
    "dim_vehicle_body = dim_vehicle_body.withColumn('body_id', F.monotonically_increasing_id())\n",
    "dim_vehicle_fuel = dim_vehicle_fuel.withColumn('fuel_id', F.monotonically_increasing_id())\n",
    "dim_vehicle_engine = dim_vehicle_engine.withColumn('engine_id', F.monotonically_increasing_id())\n",
    "dim_vehicle_tranmission = dim_vehicle_tranmission.withColumn('transmission_id', F.monotonically_increasing_id())"
   ]
  },
  {
   "cell_type": "code",
   "execution_count": 20,
   "id": "650d76ae-950d-4b3b-8f8d-7d74142862ea",
   "metadata": {},
   "outputs": [],
   "source": [
    "dim_vehicle = df.join(\n",
    "    other=dim_vehicle_interior,\n",
    "    on=['front_legroom','interior_color','maximum_seating','back_legroom_inches'],\n",
    "    how='inner'\n",
    ")\n",
    "\n",
    "dim_vehicle = dim_vehicle.join(\n",
    "    other=dim_vehicle_body,\n",
    "    on=['trimId','trim_name', 'model_name', 'make_name','body_type','wheel_system','wheel_system_display', 'exterior_color', 'listing_color',\n",
    "    'wheelbase_inches', 'height_inches', 'length_inches', 'width_inches'],\n",
    "    how='inner'\n",
    ")\n",
    "\n",
    "dim_vehicle = dim_vehicle.join(\n",
    "    other=dim_vehicle_engine,\n",
    "    on=['engine_cylinders', 'engine_displacement', 'engine_type', 'torque_lbft', 'torque_rpm', 'power_hp','power_rpm'],\n",
    "    how='inner'\n",
    ")\n",
    "\n",
    "dim_vehicle = dim_vehicle.join(\n",
    "    other=dim_vehicle_fuel,\n",
    "    on=['fuel_tank_volume_gallons', 'fuel_type', 'city_fuel_economy', 'highway_fuel_economy'],\n",
    "    how='inner'\n",
    ")\n",
    "\n",
    "dim_vehicle = dim_vehicle.join(\n",
    "    other=dim_vehicle_tranmission,\n",
    "    on=['transmission', 'transmission_display'],\n",
    "    how='inner'\n",
    ")\n",
    "\n",
    "dim_vehicle = dim_vehicle.select('interior_id', 'body_id', 'engine_id', 'fuel_id', 'transmission_id')"
   ]
  },
  {
   "cell_type": "code",
   "execution_count": 186,
   "id": "ca612290-e4f5-476a-a79f-afe5d542b6ab",
   "metadata": {},
   "outputs": [
    {
     "ename": "Py4JJavaError",
     "evalue": "An error occurred while calling o3049.showString.\n: org.apache.spark.SparkException: Job ١٥ cancelled \r\n\tat org.apache.spark.scheduler.DAGScheduler.failJobAndIndependentStages(DAGScheduler.scala:2844)\r\n\tat org.apache.spark.scheduler.DAGScheduler.handleJobCancellation(DAGScheduler.scala:2719)\r\n\tat org.apache.spark.scheduler.DAGSchedulerEventProcessLoop.doOnReceive(DAGScheduler.scala:3001)\r\n\tat org.apache.spark.scheduler.DAGSchedulerEventProcessLoop.onReceive(DAGScheduler.scala:2982)\r\n\tat org.apache.spark.scheduler.DAGSchedulerEventProcessLoop.onReceive(DAGScheduler.scala:2971)\r\n\tat org.apache.spark.util.EventLoop$$anon$1.run(EventLoop.scala:49)\r\n",
     "output_type": "error",
     "traceback": [
      "\u001b[1;31m---------------------------------------------------------------------------\u001b[0m",
      "\u001b[1;31mPy4JJavaError\u001b[0m                             Traceback (most recent call last)",
      "Cell \u001b[1;32mIn[186], line 1\u001b[0m\n\u001b[1;32m----> 1\u001b[0m \u001b[43mdim_vehicle\u001b[49m\u001b[38;5;241;43m.\u001b[39;49m\u001b[43mshow\u001b[49m\u001b[43m(\u001b[49m\u001b[43m)\u001b[49m\n",
      "File \u001b[1;32m~\\AppData\\Local\\Programs\\Python\\Python311\\Lib\\site-packages\\pyspark\\sql\\dataframe.py:959\u001b[0m, in \u001b[0;36mDataFrame.show\u001b[1;34m(self, n, truncate, vertical)\u001b[0m\n\u001b[0;32m    953\u001b[0m     \u001b[38;5;28;01mraise\u001b[39;00m PySparkTypeError(\n\u001b[0;32m    954\u001b[0m         error_class\u001b[38;5;241m=\u001b[39m\u001b[38;5;124m\"\u001b[39m\u001b[38;5;124mNOT_BOOL\u001b[39m\u001b[38;5;124m\"\u001b[39m,\n\u001b[0;32m    955\u001b[0m         message_parameters\u001b[38;5;241m=\u001b[39m{\u001b[38;5;124m\"\u001b[39m\u001b[38;5;124marg_name\u001b[39m\u001b[38;5;124m\"\u001b[39m: \u001b[38;5;124m\"\u001b[39m\u001b[38;5;124mvertical\u001b[39m\u001b[38;5;124m\"\u001b[39m, \u001b[38;5;124m\"\u001b[39m\u001b[38;5;124marg_type\u001b[39m\u001b[38;5;124m\"\u001b[39m: \u001b[38;5;28mtype\u001b[39m(vertical)\u001b[38;5;241m.\u001b[39m\u001b[38;5;18m__name__\u001b[39m},\n\u001b[0;32m    956\u001b[0m     )\n\u001b[0;32m    958\u001b[0m \u001b[38;5;28;01mif\u001b[39;00m \u001b[38;5;28misinstance\u001b[39m(truncate, \u001b[38;5;28mbool\u001b[39m) \u001b[38;5;129;01mand\u001b[39;00m truncate:\n\u001b[1;32m--> 959\u001b[0m     \u001b[38;5;28mprint\u001b[39m(\u001b[38;5;28;43mself\u001b[39;49m\u001b[38;5;241;43m.\u001b[39;49m\u001b[43m_jdf\u001b[49m\u001b[38;5;241;43m.\u001b[39;49m\u001b[43mshowString\u001b[49m\u001b[43m(\u001b[49m\u001b[43mn\u001b[49m\u001b[43m,\u001b[49m\u001b[43m \u001b[49m\u001b[38;5;241;43m20\u001b[39;49m\u001b[43m,\u001b[49m\u001b[43m \u001b[49m\u001b[43mvertical\u001b[49m\u001b[43m)\u001b[49m)\n\u001b[0;32m    960\u001b[0m \u001b[38;5;28;01melse\u001b[39;00m:\n\u001b[0;32m    961\u001b[0m     \u001b[38;5;28;01mtry\u001b[39;00m:\n",
      "File \u001b[1;32m~\\AppData\\Local\\Programs\\Python\\Python311\\Lib\\site-packages\\py4j\\java_gateway.py:1322\u001b[0m, in \u001b[0;36mJavaMember.__call__\u001b[1;34m(self, *args)\u001b[0m\n\u001b[0;32m   1316\u001b[0m command \u001b[38;5;241m=\u001b[39m proto\u001b[38;5;241m.\u001b[39mCALL_COMMAND_NAME \u001b[38;5;241m+\u001b[39m\\\n\u001b[0;32m   1317\u001b[0m     \u001b[38;5;28mself\u001b[39m\u001b[38;5;241m.\u001b[39mcommand_header \u001b[38;5;241m+\u001b[39m\\\n\u001b[0;32m   1318\u001b[0m     args_command \u001b[38;5;241m+\u001b[39m\\\n\u001b[0;32m   1319\u001b[0m     proto\u001b[38;5;241m.\u001b[39mEND_COMMAND_PART\n\u001b[0;32m   1321\u001b[0m answer \u001b[38;5;241m=\u001b[39m \u001b[38;5;28mself\u001b[39m\u001b[38;5;241m.\u001b[39mgateway_client\u001b[38;5;241m.\u001b[39msend_command(command)\n\u001b[1;32m-> 1322\u001b[0m return_value \u001b[38;5;241m=\u001b[39m \u001b[43mget_return_value\u001b[49m\u001b[43m(\u001b[49m\n\u001b[0;32m   1323\u001b[0m \u001b[43m    \u001b[49m\u001b[43manswer\u001b[49m\u001b[43m,\u001b[49m\u001b[43m \u001b[49m\u001b[38;5;28;43mself\u001b[39;49m\u001b[38;5;241;43m.\u001b[39;49m\u001b[43mgateway_client\u001b[49m\u001b[43m,\u001b[49m\u001b[43m \u001b[49m\u001b[38;5;28;43mself\u001b[39;49m\u001b[38;5;241;43m.\u001b[39;49m\u001b[43mtarget_id\u001b[49m\u001b[43m,\u001b[49m\u001b[43m \u001b[49m\u001b[38;5;28;43mself\u001b[39;49m\u001b[38;5;241;43m.\u001b[39;49m\u001b[43mname\u001b[49m\u001b[43m)\u001b[49m\n\u001b[0;32m   1325\u001b[0m \u001b[38;5;28;01mfor\u001b[39;00m temp_arg \u001b[38;5;129;01min\u001b[39;00m temp_args:\n\u001b[0;32m   1326\u001b[0m     \u001b[38;5;28;01mif\u001b[39;00m \u001b[38;5;28mhasattr\u001b[39m(temp_arg, \u001b[38;5;124m\"\u001b[39m\u001b[38;5;124m_detach\u001b[39m\u001b[38;5;124m\"\u001b[39m):\n",
      "File \u001b[1;32m~\\AppData\\Local\\Programs\\Python\\Python311\\Lib\\site-packages\\pyspark\\errors\\exceptions\\captured.py:179\u001b[0m, in \u001b[0;36mcapture_sql_exception.<locals>.deco\u001b[1;34m(*a, **kw)\u001b[0m\n\u001b[0;32m    177\u001b[0m \u001b[38;5;28;01mdef\u001b[39;00m \u001b[38;5;21mdeco\u001b[39m(\u001b[38;5;241m*\u001b[39ma: Any, \u001b[38;5;241m*\u001b[39m\u001b[38;5;241m*\u001b[39mkw: Any) \u001b[38;5;241m-\u001b[39m\u001b[38;5;241m>\u001b[39m Any:\n\u001b[0;32m    178\u001b[0m     \u001b[38;5;28;01mtry\u001b[39;00m:\n\u001b[1;32m--> 179\u001b[0m         \u001b[38;5;28;01mreturn\u001b[39;00m \u001b[43mf\u001b[49m\u001b[43m(\u001b[49m\u001b[38;5;241;43m*\u001b[39;49m\u001b[43ma\u001b[49m\u001b[43m,\u001b[49m\u001b[43m \u001b[49m\u001b[38;5;241;43m*\u001b[39;49m\u001b[38;5;241;43m*\u001b[39;49m\u001b[43mkw\u001b[49m\u001b[43m)\u001b[49m\n\u001b[0;32m    180\u001b[0m     \u001b[38;5;28;01mexcept\u001b[39;00m Py4JJavaError \u001b[38;5;28;01mas\u001b[39;00m e:\n\u001b[0;32m    181\u001b[0m         converted \u001b[38;5;241m=\u001b[39m convert_exception(e\u001b[38;5;241m.\u001b[39mjava_exception)\n",
      "File \u001b[1;32m~\\AppData\\Local\\Programs\\Python\\Python311\\Lib\\site-packages\\py4j\\protocol.py:326\u001b[0m, in \u001b[0;36mget_return_value\u001b[1;34m(answer, gateway_client, target_id, name)\u001b[0m\n\u001b[0;32m    324\u001b[0m value \u001b[38;5;241m=\u001b[39m OUTPUT_CONVERTER[\u001b[38;5;28mtype\u001b[39m](answer[\u001b[38;5;241m2\u001b[39m:], gateway_client)\n\u001b[0;32m    325\u001b[0m \u001b[38;5;28;01mif\u001b[39;00m answer[\u001b[38;5;241m1\u001b[39m] \u001b[38;5;241m==\u001b[39m REFERENCE_TYPE:\n\u001b[1;32m--> 326\u001b[0m     \u001b[38;5;28;01mraise\u001b[39;00m Py4JJavaError(\n\u001b[0;32m    327\u001b[0m         \u001b[38;5;124m\"\u001b[39m\u001b[38;5;124mAn error occurred while calling \u001b[39m\u001b[38;5;132;01m{0}\u001b[39;00m\u001b[38;5;132;01m{1}\u001b[39;00m\u001b[38;5;132;01m{2}\u001b[39;00m\u001b[38;5;124m.\u001b[39m\u001b[38;5;130;01m\\n\u001b[39;00m\u001b[38;5;124m\"\u001b[39m\u001b[38;5;241m.\u001b[39m\n\u001b[0;32m    328\u001b[0m         \u001b[38;5;28mformat\u001b[39m(target_id, \u001b[38;5;124m\"\u001b[39m\u001b[38;5;124m.\u001b[39m\u001b[38;5;124m\"\u001b[39m, name), value)\n\u001b[0;32m    329\u001b[0m \u001b[38;5;28;01melse\u001b[39;00m:\n\u001b[0;32m    330\u001b[0m     \u001b[38;5;28;01mraise\u001b[39;00m Py4JError(\n\u001b[0;32m    331\u001b[0m         \u001b[38;5;124m\"\u001b[39m\u001b[38;5;124mAn error occurred while calling \u001b[39m\u001b[38;5;132;01m{0}\u001b[39;00m\u001b[38;5;132;01m{1}\u001b[39;00m\u001b[38;5;132;01m{2}\u001b[39;00m\u001b[38;5;124m. Trace:\u001b[39m\u001b[38;5;130;01m\\n\u001b[39;00m\u001b[38;5;132;01m{3}\u001b[39;00m\u001b[38;5;130;01m\\n\u001b[39;00m\u001b[38;5;124m\"\u001b[39m\u001b[38;5;241m.\u001b[39m\n\u001b[0;32m    332\u001b[0m         \u001b[38;5;28mformat\u001b[39m(target_id, \u001b[38;5;124m\"\u001b[39m\u001b[38;5;124m.\u001b[39m\u001b[38;5;124m\"\u001b[39m, name, value))\n",
      "\u001b[1;31mPy4JJavaError\u001b[0m: An error occurred while calling o3049.showString.\n: org.apache.spark.SparkException: Job ١٥ cancelled \r\n\tat org.apache.spark.scheduler.DAGScheduler.failJobAndIndependentStages(DAGScheduler.scala:2844)\r\n\tat org.apache.spark.scheduler.DAGScheduler.handleJobCancellation(DAGScheduler.scala:2719)\r\n\tat org.apache.spark.scheduler.DAGSchedulerEventProcessLoop.doOnReceive(DAGScheduler.scala:3001)\r\n\tat org.apache.spark.scheduler.DAGSchedulerEventProcessLoop.onReceive(DAGScheduler.scala:2982)\r\n\tat org.apache.spark.scheduler.DAGSchedulerEventProcessLoop.onReceive(DAGScheduler.scala:2971)\r\n\tat org.apache.spark.util.EventLoop$$anon$1.run(EventLoop.scala:49)\r\n"
     ]
    }
   ],
   "source": [
    "dim_vehicle.show()"
   ]
  },
  {
   "cell_type": "code",
   "execution_count": null,
   "id": "4ec95ebe-81a9-46e2-ae3a-08ea8747b031",
   "metadata": {},
   "outputs": [],
   "source": []
  },
  {
   "cell_type": "code",
   "execution_count": 34,
   "id": "5b18e60e-0125-45b7-a948-936b34504d58",
   "metadata": {},
   "outputs": [
    {
     "name": "stdout",
     "output_type": "stream",
     "text": [
      "92210\n",
      "175597\n",
      "16125\n"
     ]
    }
   ],
   "source": [
    "print(dim_vehicle_interior.count())\n",
    "print(dim_vehicle_body.count())\n",
    "print(dim_vehicle_engine.count())"
   ]
  },
  {
   "cell_type": "code",
   "execution_count": 181,
   "id": "afc87b2d-7866-414e-9d12-5a7812988df6",
   "metadata": {},
   "outputs": [],
   "source": [
    "body = df.select(\n",
    "    'trimId','trim_name', 'model_name', 'make_name','body_type','wheel_system','wheel_system_display', 'exterior_color', 'listing_color',\n",
    "    'wheelbase_inches', 'height_inches', 'length_inches', 'width_inches'\n",
    ").distinct()"
   ]
  },
  {
   "cell_type": "code",
   "execution_count": 182,
   "id": "3393d29c-f60d-495a-9e27-5e57d44890c7",
   "metadata": {},
   "outputs": [
    {
     "data": {
      "text/plain": [
       "375455"
      ]
     },
     "execution_count": 182,
     "metadata": {},
     "output_type": "execute_result"
    }
   ],
   "source": [
    "body.count()"
   ]
  },
  {
   "cell_type": "code",
   "execution_count": 156,
   "id": "3f78a74a-a0ea-48e4-9dd9-483be49de5bc",
   "metadata": {},
   "outputs": [
    {
     "data": {
      "text/plain": [
       "27"
      ]
     },
     "execution_count": 156,
     "metadata": {},
     "output_type": "execute_result"
    }
   ],
   "source": [
    "df.select('transmission','transmission_display').distinct().count()"
   ]
  },
  {
   "cell_type": "code",
   "execution_count": 41,
   "id": "2e75abdb-dc8b-4407-800b-066f5373e33c",
   "metadata": {},
   "outputs": [],
   "source": [
    "# interior without numerical # 'back_legroom' 71049\n",
    "# interior with numerical 92210"
   ]
  },
  {
   "cell_type": "code",
   "execution_count": 42,
   "id": "232eb5d2-9004-4386-aec6-41933a0b49c7",
   "metadata": {},
   "outputs": [],
   "source": [
    "# body\n",
    "# 175597 wihtout numerical data\n",
    "# 252248 with numerical data"
   ]
  },
  {
   "cell_type": "markdown",
   "id": "5a35f37f-0fd7-4e44-b467-c52e1806cf55",
   "metadata": {},
   "source": [
    "# Data Loading"
   ]
  },
  {
   "cell_type": "code",
   "execution_count": null,
   "id": "469fe30c-31d0-4246-83bb-8a1b27eabcce",
   "metadata": {},
   "outputs": [],
   "source": []
  },
  {
   "cell_type": "markdown",
   "id": "b7a453f4-5843-4196-8d74-ed097c68a84d",
   "metadata": {},
   "source": [
    "# Testing Area"
   ]
  },
  {
   "cell_type": "code",
   "execution_count": null,
   "id": "746204fa-4719-4157-9481-beaf55a838d2",
   "metadata": {},
   "outputs": [],
   "source": []
  }
 ],
 "metadata": {
  "kernelspec": {
   "display_name": "Python 3 (ipykernel)",
   "language": "python",
   "name": "python3"
  },
  "language_info": {
   "codemirror_mode": {
    "name": "ipython",
    "version": 3
   },
   "file_extension": ".py",
   "mimetype": "text/x-python",
   "name": "python",
   "nbconvert_exporter": "python",
   "pygments_lexer": "ipython3",
   "version": "3.11.5"
  }
 },
 "nbformat": 4,
 "nbformat_minor": 5
}
